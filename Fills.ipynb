{
  "nbformat": 4,
  "nbformat_minor": 0,
  "metadata": {
    "colab": {
      "provenance": [],
      "collapsed_sections": [
        "mPqDkTZfAuq7",
        "SUnDfp-WAZcL",
        "0FzdAcRbM3GB",
        "MQTlSKCVgWuE",
        "f6o3fMSiEtpu",
        "y9B2Da2ZHp7w",
        "ghEqWQHpJP4K"
      ]
    },
    "kernelspec": {
      "name": "python3",
      "display_name": "Python 3"
    },
    "language_info": {
      "name": "python"
    }
  },
  "cells": [
    {
      "cell_type": "markdown",
      "source": [
        "# Data Preparation"
      ],
      "metadata": {
        "id": "mPqDkTZfAuq7"
      }
    },
    {
      "cell_type": "code",
      "execution_count": null,
      "metadata": {
        "id": "l8rKbkE81_Pc"
      },
      "outputs": [],
      "source": [
        "# Essential library\n",
        "import pandas as pd"
      ]
    },
    {
      "cell_type": "code",
      "source": [
        "# Mounting Google Drive\n",
        "from google.colab import drive\n",
        "drive.mount('/content/drive')"
      ],
      "metadata": {
        "colab": {
          "base_uri": "https://localhost:8080/"
        },
        "id": "jBtKWawWFhiR",
        "outputId": "c65bccef-b326-4687-b088-2bc25f197202"
      },
      "execution_count": null,
      "outputs": [
        {
          "output_type": "stream",
          "name": "stdout",
          "text": [
            "Mounted at /content/drive\n"
          ]
        }
      ]
    },
    {
      "cell_type": "code",
      "source": [
        "# Changing the work directory\n",
        "import os\n",
        "os.chdir(\"/content/drive/MyDrive/Colab Notebooks\")"
      ],
      "metadata": {
        "id": "9u2sEMJRG6RZ"
      },
      "execution_count": null,
      "outputs": []
    },
    {
      "cell_type": "code",
      "source": [
        "# Load CSVs\n",
        "Rainbow = pd.read_csv(\"JumpTradingInterview-Fills.RAINBOW.csv\")\n",
        "Unicorn = pd.read_csv(\"JumpTradingInterview-Fills.UNICORN.csv\")"
      ],
      "metadata": {
        "id": "Ri3UqUUN2gPU"
      },
      "execution_count": null,
      "outputs": []
    },
    {
      "cell_type": "code",
      "source": [
        "# Concatenate the two files\n",
        "df = pd.concat([Rainbow, Unicorn], axis=0, ignore_index=True)"
      ],
      "metadata": {
        "id": "0H28M5343srj"
      },
      "execution_count": null,
      "outputs": []
    },
    {
      "cell_type": "code",
      "source": [
        "# Check for NA and duplicates\n",
        "df.fillna(0, inplace=True)\n",
        "df.drop_duplicates(inplace=True)"
      ],
      "metadata": {
        "id": "hUlJB8Wb4Lq1"
      },
      "execution_count": null,
      "outputs": []
    },
    {
      "cell_type": "code",
      "source": [
        "# Converting the timestamps\n",
        "df['ExchangePublishTimestamp'] = pd.to_datetime(df['ExchangePublishTimestamp'],unit='ns')\n",
        "df['ExchangeReceiptTimestamp'] = pd.to_datetime(df['ExchangeReceiptTimestamp'],unit='ns')\n",
        "\n",
        "'''\n",
        "Using ns instead of ms as unit because with the latter, there's some out of bound dates like\n",
        "2262-04-14 21:38:50. This date also doesn't make sense comsidering this a trading fill report.\n",
        "With ns this is avoided.\n",
        "'''"
      ],
      "metadata": {
        "id": "huLDA-if-eh-",
        "colab": {
          "base_uri": "https://localhost:8080/",
          "height": 70
        },
        "outputId": "ea5e9f88-2827-48e4-a961-f71fd593dee8"
      },
      "execution_count": null,
      "outputs": [
        {
          "output_type": "execute_result",
          "data": {
            "text/plain": [
              "\"\\n Using ns instead of ms as unit because with the latter, there's some out of bound dates like \\n2262-04-14 21:38:50. This date also doesn't make sense comsidering this a trading fill report.\\nWith ns this is avoided.\\n\""
            ],
            "application/vnd.google.colaboratory.intrinsic+json": {
              "type": "string"
            }
          },
          "metadata": {},
          "execution_count": 9
        }
      ]
    },
    {
      "cell_type": "code",
      "source": [
        "# Combine into one single CSV\n",
        "df.to_csv(\"Fills-Combined.csv\", index=False)"
      ],
      "metadata": {
        "id": "GSmaD-dZ4gBQ"
      },
      "execution_count": null,
      "outputs": []
    },
    {
      "cell_type": "markdown",
      "source": [
        "# Symbol Based Analaysis"
      ],
      "metadata": {
        "id": "SUnDfp-WAZcL"
      }
    },
    {
      "cell_type": "code",
      "source": [
        "# Fill Distrubution by Symbol\n",
        "symbol_counts = df['Symbol'].value_counts()\n",
        "print(symbol_counts)"
      ],
      "metadata": {
        "colab": {
          "base_uri": "https://localhost:8080/"
        },
        "id": "iITDpSDL_hD9",
        "outputId": "cd25375d-4f43-4678-8291-4960a4e17078"
      },
      "execution_count": null,
      "outputs": [
        {
          "output_type": "stream",
          "name": "stdout",
          "text": [
            "Symbol\n",
            "RAINBOWZ0    848043\n",
            "UNICORNZ0    581329\n",
            "Name: count, dtype: int64\n"
          ]
        }
      ]
    },
    {
      "cell_type": "markdown",
      "source": [
        "From the above, Symbol='RAINBOWZ0' is traded more than 'UNICORNZ0'. Let's see how they vary by Firm and Trader."
      ],
      "metadata": {
        "id": "Bh12IqVPBLHh"
      }
    },
    {
      "cell_type": "code",
      "source": [
        "# Group by Firm and Symbol and count number of trades\n",
        "firm_symbol_analysis = df.groupby(['Firm', 'Symbol'])['OrderId'].count().unstack()\n",
        "\n",
        "# Adding a total trades column for each Firm\n",
        "firm_symbol_analysis['Total Trades'] = firm_symbol_analysis.sum(axis=1)\n",
        "\n",
        "# Adding a column for %\n",
        "firm_symbol_analysis['RainBow %']=(firm_symbol_analysis['RAINBOWZ0']/firm_symbol_analysis['Total Trades'])*100\n",
        "\n",
        "# Sort by Total Trades\n",
        "firm_symbol_analysis = firm_symbol_analysis.sort_values(by='RainBow %', ascending=False)\n",
        "\n",
        "print(f\"Trade Activity By Firm: {firm_symbol_analysis}\")"
      ],
      "metadata": {
        "colab": {
          "base_uri": "https://localhost:8080/"
        },
        "id": "5L1Nkd2BB-5b",
        "outputId": "e64576fe-50fa-4166-df5d-caa48778a926"
      },
      "execution_count": null,
      "outputs": [
        {
          "output_type": "stream",
          "name": "stdout",
          "text": [
            "Trade Activity By Firm: Symbol  RAINBOWZ0  UNICORNZ0  Total Trades  RainBow %\n",
            "Firm                                                 \n",
            "SAU         86019      21753        107772  79.815722\n",
            "IOU        124586      63625        188211  66.194856\n",
            "KNR        130712      71356        202068  64.687135\n",
            "UJV        126741      85390        212131  59.746572\n",
            "YDG         95716      65031        160747  59.544502\n",
            "ABW        169976     124385        294361  57.744063\n",
            "NJG         66668      80826        147494  45.200483\n",
            "EIN         47625      68963        116588  40.848972\n"
          ]
        }
      ]
    },
    {
      "cell_type": "markdown",
      "source": [
        "So even though Firm='SAU' is 3rd from the bottom in terms of Total Trades, the % of Trades is the highest while Firm='ABW' has the highest number of trades, but 3rd from bottom in terms of %. We can say that although 'ABW' is more active for 'RAINBOWZ0', 'SAU' is more effective.\n",
        "We also see that 'ABW' is the most active Firm overall.\n",
        "Another Interesting thing is 'NJG' and 'EIN' focus more on 'UNICORNZ0' than 'RAINBOWZ0'."
      ],
      "metadata": {
        "id": "Zrx0i9zfFpgc"
      }
    },
    {
      "cell_type": "code",
      "source": [
        "# Group by Trader and Symbol and count number of trades\n",
        "trader_symbol_analysis = df.groupby(['Trader', 'Symbol'])['OrderId'].count().unstack()\n",
        "\n",
        "# Since there's a lot of NaN in the result, changing them to 0\n",
        "trader_symbol_analysis=trader_symbol_analysis.fillna(0)\n",
        "\n",
        "# Adding a total trades column for each Trader\n",
        "trader_symbol_analysis['Total Trades'] = trader_symbol_analysis.sum(axis=1)\n",
        "\n",
        "# Adding a column for %\n",
        "trader_symbol_analysis['RainBow %']=(trader_symbol_analysis['RAINBOWZ0']/trader_symbol_analysis['Total Trades'])*100\n",
        "\n",
        "# Sort by Total Trades\n",
        "trader_symbol_analysis = trader_symbol_analysis.sort_values(by='RainBow %', ascending=False)\n",
        "\n",
        "print(f\"Trade Activity By Trader: {trader_symbol_analysis}\")"
      ],
      "metadata": {
        "colab": {
          "base_uri": "https://localhost:8080/"
        },
        "outputId": "810ce953-3b9b-4094-80f1-cdb34aaf58fc",
        "id": "uuoiGvStHj_R"
      },
      "execution_count": null,
      "outputs": [
        {
          "output_type": "stream",
          "name": "stdout",
          "text": [
            "Trade Activity By Trader: Symbol  RAINBOWZ0  UNICORNZ0  Total Trades  RainBow %\n",
            "Trader                                               \n",
            "ASY       39280.0        0.0       39280.0      100.0\n",
            "BJA       59338.0        0.0       59338.0      100.0\n",
            "EBJ      102166.0        0.0      102166.0      100.0\n",
            "GWS       37187.0        0.0       37187.0      100.0\n",
            "HFW       46346.0        0.0       46346.0      100.0\n",
            "JFX       68884.0        0.0       68884.0      100.0\n",
            "LFH       45086.0        0.0       45086.0      100.0\n",
            "KOX       67403.0        0.0       67403.0      100.0\n",
            "LYW       47625.0        0.0       47625.0      100.0\n",
            "VRP       48832.0        0.0       48832.0      100.0\n",
            "VHA       57870.0        0.0       57870.0      100.0\n",
            "YLO       67810.0        0.0       67810.0      100.0\n",
            "ZGS       55702.0        0.0       55702.0      100.0\n",
            "SCK       37846.0        0.0       37846.0      100.0\n",
            "WNT       66668.0        0.0       66668.0      100.0\n",
            "GXU           0.0    33539.0       33539.0        0.0\n",
            "NBM           0.0    40239.0       40239.0        0.0\n",
            "MVL           0.0    23460.0       23460.0        0.0\n",
            "MHP           0.0    34519.0       34519.0        0.0\n",
            "KQD           0.0    36837.0       36837.0        0.0\n",
            "JZF           0.0    31818.0       31818.0        0.0\n",
            "JGS           0.0    21753.0       21753.0        0.0\n",
            "PAM           0.0    19715.0       19715.0        0.0\n",
            "NVF           0.0    22218.0       22218.0        0.0\n",
            "TIE           0.0    42813.0       42813.0        0.0\n",
            "TCF           0.0    71699.0       71699.0        0.0\n",
            "RVN           0.0    23386.0       23386.0        0.0\n",
            "PUL           0.0    51851.0       51851.0        0.0\n",
            "OTY           0.0    20868.0       20868.0        0.0\n",
            "UFQ           0.0    37651.0       37651.0        0.0\n",
            "YHL           0.0    38779.0       38779.0        0.0\n",
            "YWX           0.0    30184.0       30184.0        0.0\n"
          ]
        }
      ]
    },
    {
      "cell_type": "markdown",
      "source": [
        "We see there's no trader who trade for both symbols. 'EBJ' and 'GWS' have done the most and least trades respectively for symbol 'RAINBOWZ0' while for 'UNICORNZ0', 'TCF' and 'PAM' have the most and least trades respectively."
      ],
      "metadata": {
        "id": "0vji_mPcKxCt"
      }
    },
    {
      "cell_type": "code",
      "source": [
        "# Bar chart to analyse the result for Firms\n",
        "import matplotlib.pyplot as plt\n",
        "\n",
        "firm_symbol_analysis[['RAINBOWZ0','UNICORNZ0']].plot(kind='bar', stacked=True, figsize=(10,6))\n",
        "plt.title('Trade Activity By Firm')\n",
        "plt.xlabel('Firm')\n",
        "plt.ylabel('Number of Trades')\n",
        "plt.legend(title='Symbol')\n",
        "plt.tight_layout()\n",
        "plt.show()"
      ],
      "metadata": {
        "colab": {
          "base_uri": "https://localhost:8080/",
          "height": 529
        },
        "id": "CCfS2nz8Ltjf",
        "outputId": "3e5a1c26-a52f-433f-f22e-f89cb227e2c3"
      },
      "execution_count": null,
      "outputs": [
        {
          "output_type": "display_data",
          "data": {
            "text/plain": [
              "<Figure size 1000x600 with 1 Axes>"
            ],
            "image/png": "[encoded data removed]"
          },
          "metadata": {}
        }
      ]
    },
    {
      "cell_type": "code",
      "source": [
        "# Price Behaviour by Symbol\n",
        "df.groupby('Symbol')['Price'].describe()"
      ],
      "metadata": {
        "colab": {
          "base_uri": "https://localhost:8080/",
          "height": 143
        },
        "id": "pFL9LJ6tNaee",
        "outputId": "9218591d-b3a8-4821-ac8a-e1401346f75a"
      },
      "execution_count": null,
      "outputs": [
        {
          "output_type": "execute_result",
          "data": {
            "text/plain": [
              "              count          mean          std        min        25%  \\\n",
              "Symbol                                                                 \n",
              "RAINBOWZ0  848043.0  5.221565e+05   564.321989   520675.0   521775.0   \n",
              "UNICORNZ0  581329.0  1.404017e+06  1772.839359  1399550.0  1402825.0   \n",
              "\n",
              "                 50%        75%        max  \n",
              "Symbol                                      \n",
              "RAINBOWZ0   522150.0   522600.0   523350.0  \n",
              "UNICORNZ0  1403875.0  1405075.0  1409175.0  "
            ],
            "text/html": [
              "\n",
              "  <div id=\"df-a43f392f-64fa-459e-8e9b-a0c1cbe6c748\" class=\"colab-df-container\">\n",
              "    <div>\n",
              "<style scoped>\n",
              "    .dataframe tbody tr th:only-of-type {\n",
              "        vertical-align: middle;\n",
              "    }\n",
              "\n",
              "    .dataframe tbody tr th {\n",
              "        vertical-align: top;\n",
              "    }\n",
              "\n",
              "    .dataframe thead th {\n",
              "        text-align: right;\n",
              "    }\n",
              "</style>\n",
              "<table border=\"1\" class=\"dataframe\">\n",
              "  <thead>\n",
              "    <tr style=\"text-align: right;\">\n",
              "      <th></th>\n",
              "      <th>count</th>\n",
              "      <th>mean</th>\n",
              "      <th>std</th>\n",
              "      <th>min</th>\n",
              "      <th>25%</th>\n",
              "      <th>50%</th>\n",
              "      <th>75%</th>\n",
              "      <th>max</th>\n",
              "    </tr>\n",
              "    <tr>\n",
              "      <th>Symbol</th>\n",
              "      <th></th>\n",
              "      <th></th>\n",
              "      <th></th>\n",
              "      <th></th>\n",
              "      <th></th>\n",
              "      <th></th>\n",
              "      <th></th>\n",
              "      <th></th>\n",
              "    </tr>\n",
              "  </thead>\n",
              "  <tbody>\n",
              "    <tr>\n",
              "      <th>RAINBOWZ0</th>\n",
              "      <td>848043.0</td>\n",
              "      <td>5.221565e+05</td>\n",
              "      <td>564.321989</td>\n",
              "      <td>520675.0</td>\n",
              "      <td>521775.0</td>\n",
              "      <td>522150.0</td>\n",
              "      <td>522600.0</td>\n",
              "      <td>523350.0</td>\n",
              "    </tr>\n",
              "    <tr>\n",
              "      <th>UNICORNZ0</th>\n",
              "      <td>581329.0</td>\n",
              "      <td>1.404017e+06</td>\n",
              "      <td>1772.839359</td>\n",
              "      <td>1399550.0</td>\n",
              "      <td>1402825.0</td>\n",
              "      <td>1403875.0</td>\n",
              "      <td>1405075.0</td>\n",
              "      <td>1409175.0</td>\n",
              "    </tr>\n",
              "  </tbody>\n",
              "</table>\n",
              "</div>\n",
              "    <div class=\"colab-df-buttons\">\n",
              "\n",
              "  <div class=\"colab-df-container\">\n",
              "    <button class=\"colab-df-convert\" onclick=\"convertToInteractive('df-a43f392f-64fa-459e-8e9b-a0c1cbe6c748')\"\n",
              "            title=\"Convert this dataframe to an interactive table.\"\n",
              "            style=\"display:none;\">\n",
              "\n",
              "  <svg xmlns=\"http://www.w3.org/2000/svg\" height=\"24px\" viewBox=\"0 -960 960 960\">\n",
              "    <path d=\"M120-120v-720h720v720H120Zm60-500h600v-160H180v160Zm220 220h160v-160H400v160Zm0 220h160v-160H400v160ZM180-400h160v-160H180v160Zm440 0h160v-160H620v160ZM180-180h160v-160H180v160Zm440 0h160v-160H620v160Z\"/>\n",
              "  </svg>\n",
              "    </button>\n",
              "\n",
              "  <style>\n",
              "    .colab-df-container {\n",
              "      display:flex;\n",
              "      gap: 12px;\n",
              "    }\n",
              "\n",
              "    .colab-df-convert {\n",
              "      background-color: #E8F0FE;\n",
              "      border: none;\n",
              "      border-radius: 50%;\n",
              "      cursor: pointer;\n",
              "      display: none;\n",
              "      fill: #1967D2;\n",
              "      height: 32px;\n",
              "      padding: 0 0 0 0;\n",
              "      width: 32px;\n",
              "    }\n",
              "\n",
              "    .colab-df-convert:hover {\n",
              "      background-color: #E2EBFA;\n",
              "      box-shadow: 0px 1px 2px rgba(60, 64, 67, 0.3), 0px 1px 3px 1px rgba(60, 64, 67, 0.15);\n",
              "      fill: #174EA6;\n",
              "    }\n",
              "\n",
              "    .colab-df-buttons div {\n",
              "      margin-bottom: 4px;\n",
              "    }\n",
              "\n",
              "    [theme=dark] .colab-df-convert {\n",
              "      background-color: #3B4455;\n",
              "      fill: #D2E3FC;\n",
              "    }\n",
              "\n",
              "    [theme=dark] .colab-df-convert:hover {\n",
              "      background-color: #434B5C;\n",
              "      box-shadow: 0px 1px 3px 1px rgba(0, 0, 0, 0.15);\n",
              "      filter: drop-shadow(0px 1px 2px rgba(0, 0, 0, 0.3));\n",
              "      fill: #FFFFFF;\n",
              "    }\n",
              "  </style>\n",
              "\n",
              "    <script>\n",
              "      const buttonEl =\n",
              "        document.querySelector('#df-a43f392f-64fa-459e-8e9b-a0c1cbe6c748 button.colab-df-convert');\n",
              "      buttonEl.style.display =\n",
              "        google.colab.kernel.accessAllowed ? 'block' : 'none';\n",
              "\n",
              "      async function convertToInteractive(key) {\n",
              "        const element = document.querySelector('#df-a43f392f-64fa-459e-8e9b-a0c1cbe6c748');\n",
              "        const dataTable =\n",
              "          await google.colab.kernel.invokeFunction('convertToInteractive',\n",
              "                                                    [key], {});\n",
              "        if (!dataTable) return;\n",
              "\n",
              "        const docLinkHtml = 'Like what you see? Visit the ' +\n",
              "          '<a target=\"_blank\" href=https://colab.research.google.com/notebooks/data_table.ipynb>data table notebook</a>'\n",
              "          + ' to learn more about interactive tables.';\n",
              "        element.innerHTML = '';\n",
              "        dataTable['output_type'] = 'display_data';\n",
              "        await google.colab.output.renderOutput(dataTable, element);\n",
              "        const docLink = document.createElement('div');\n",
              "        docLink.innerHTML = docLinkHtml;\n",
              "        element.appendChild(docLink);\n",
              "      }\n",
              "    </script>\n",
              "  </div>\n",
              "\n",
              "\n",
              "<div id=\"df-2df8ea85-8d34-4805-b865-2c7ac50adf80\">\n",
              "  <button class=\"colab-df-quickchart\" onclick=\"quickchart('df-2df8ea85-8d34-4805-b865-2c7ac50adf80')\"\n",
              "            title=\"Suggest charts\"\n",
              "            style=\"display:none;\">\n",
              "\n",
              "<svg xmlns=\"http://www.w3.org/2000/svg\" height=\"24px\"viewBox=\"0 0 24 24\"\n",
              "     width=\"24px\">\n",
              "    <g>\n",
              "        <path d=\"M19 3H5c-1.1 0-2 .9-2 2v14c0 1.1.9 2 2 2h14c1.1 0 2-.9 2-2V5c0-1.1-.9-2-2-2zM9 17H7v-7h2v7zm4 0h-2V7h2v10zm4 0h-2v-4h2v4z\"/>\n",
              "    </g>\n",
              "</svg>\n",
              "  </button>\n",
              "\n",
              "<style>\n",
              "  .colab-df-quickchart {\n",
              "      --bg-color: #E8F0FE;\n",
              "      --fill-color: #1967D2;\n",
              "      --hover-bg-color: #E2EBFA;\n",
              "      --hover-fill-color: #174EA6;\n",
              "      --disabled-fill-color: #AAA;\n",
              "      --disabled-bg-color: #DDD;\n",
              "  }\n",
              "\n",
              "  [theme=dark] .colab-df-quickchart {\n",
              "      --bg-color: #3B4455;\n",
              "      --fill-color: #D2E3FC;\n",
              "      --hover-bg-color: #434B5C;\n",
              "      --hover-fill-color: #FFFFFF;\n",
              "      --disabled-bg-color: #3B4455;\n",
              "      --disabled-fill-color: #666;\n",
              "  }\n",
              "\n",
              "  .colab-df-quickchart {\n",
              "    background-color: var(--bg-color);\n",
              "    border: none;\n",
              "    border-radius: 50%;\n",
              "    cursor: pointer;\n",
              "    display: none;\n",
              "    fill: var(--fill-color);\n",
              "    height: 32px;\n",
              "    padding: 0;\n",
              "    width: 32px;\n",
              "  }\n",
              "\n",
              "  .colab-df-quickchart:hover {\n",
              "    background-color: var(--hover-bg-color);\n",
              "    box-shadow: 0 1px 2px rgba(60, 64, 67, 0.3), 0 1px 3px 1px rgba(60, 64, 67, 0.15);\n",
              "    fill: var(--button-hover-fill-color);\n",
              "  }\n",
              "\n",
              "  .colab-df-quickchart-complete:disabled,\n",
              "  .colab-df-quickchart-complete:disabled:hover {\n",
              "    background-color: var(--disabled-bg-color);\n",
              "    fill: var(--disabled-fill-color);\n",
              "    box-shadow: none;\n",
              "  }\n",
              "\n",
              "  .colab-df-spinner {\n",
              "    border: 2px solid var(--fill-color);\n",
              "    border-color: transparent;\n",
              "    border-bottom-color: var(--fill-color);\n",
              "    animation:\n",
              "      spin 1s steps(1) infinite;\n",
              "  }\n",
              "\n",
              "  @keyframes spin {\n",
              "    0% {\n",
              "      border-color: transparent;\n",
              "      border-bottom-color: var(--fill-color);\n",
              "      border-left-color: var(--fill-color);\n",
              "    }\n",
              "    20% {\n",
              "      border-color: transparent;\n",
              "      border-left-color: var(--fill-color);\n",
              "      border-top-color: var(--fill-color);\n",
              "    }\n",
              "    30% {\n",
              "      border-color: transparent;\n",
              "      border-left-color: var(--fill-color);\n",
              "      border-top-color: var(--fill-color);\n",
              "      border-right-color: var(--fill-color);\n",
              "    }\n",
              "    40% {\n",
              "      border-color: transparent;\n",
              "      border-right-color: var(--fill-color);\n",
              "      border-top-color: var(--fill-color);\n",
              "    }\n",
              "    60% {\n",
              "      border-color: transparent;\n",
              "      border-right-color: var(--fill-color);\n",
              "    }\n",
              "    80% {\n",
              "      border-color: transparent;\n",
              "      border-right-color: var(--fill-color);\n",
              "      border-bottom-color: var(--fill-color);\n",
              "    }\n",
              "    90% {\n",
              "      border-color: transparent;\n",
              "      border-bottom-color: var(--fill-color);\n",
              "    }\n",
              "  }\n",
              "</style>\n",
              "\n",
              "  <script>\n",
              "    async function quickchart(key) {\n",
              "      const quickchartButtonEl =\n",
              "        document.querySelector('#' + key + ' button');\n",
              "      quickchartButtonEl.disabled = true;  // To prevent multiple clicks.\n",
              "      quickchartButtonEl.classList.add('colab-df-spinner');\n",
              "      try {\n",
              "        const charts = await google.colab.kernel.invokeFunction(\n",
              "            'suggestCharts', [key], {});\n",
              "      } catch (error) {\n",
              "        console.error('Error during call to suggestCharts:', error);\n",
              "      }\n",
              "      quickchartButtonEl.classList.remove('colab-df-spinner');\n",
              "      quickchartButtonEl.classList.add('colab-df-quickchart-complete');\n",
              "    }\n",
              "    (() => {\n",
              "      let quickchartButtonEl =\n",
              "        document.querySelector('#df-2df8ea85-8d34-4805-b865-2c7ac50adf80 button');\n",
              "      quickchartButtonEl.style.display =\n",
              "        google.colab.kernel.accessAllowed ? 'block' : 'none';\n",
              "    })();\n",
              "  </script>\n",
              "</div>\n",
              "\n",
              "    </div>\n",
              "  </div>\n"
            ],
            "application/vnd.google.colaboratory.intrinsic+json": {
              "type": "dataframe",
              "summary": "{\n  \"name\": \"df\",\n  \"rows\": 2,\n  \"fields\": [\n    {\n      \"column\": \"Symbol\",\n      \"properties\": {\n        \"dtype\": \"string\",\n        \"num_unique_values\": 2,\n        \"samples\": [\n          \"UNICORNZ0\",\n          \"RAINBOWZ0\"\n        ],\n        \"semantic_type\": \"\",\n        \"description\": \"\"\n      }\n    },\n    {\n      \"column\": \"count\",\n      \"properties\": {\n        \"dtype\": \"number\",\n        \"std\": 188595.27803738884,\n        \"min\": 581329.0,\n        \"max\": 848043.0,\n        \"num_unique_values\": 2,\n        \"samples\": [\n          581329.0,\n          848043.0\n        ],\n        \"semantic_type\": \"\",\n        \"description\": \"\"\n      }\n    },\n    {\n      \"column\": \"mean\",\n      \"properties\": {\n        \"dtype\": \"number\",\n        \"std\": 623569.3922164966,\n        \"min\": 522156.4667711425,\n        \"max\": 1404016.75832446,\n        \"num_unique_values\": 2,\n        \"samples\": [\n          1404016.75832446,\n          522156.4667711425\n        ],\n        \"semantic_type\": \"\",\n        \"description\": \"\"\n      }\n    },\n    {\n      \"column\": \"std\",\n      \"properties\": {\n        \"dtype\": \"number\",\n        \"std\": 854.5508271940294,\n        \"min\": 564.3219892354521,\n        \"max\": 1772.8393587903954,\n        \"num_unique_values\": 2,\n        \"samples\": [\n          1772.8393587903954,\n          564.3219892354521\n        ],\n        \"semantic_type\": \"\",\n        \"description\": \"\"\n      }\n    },\n    {\n      \"column\": \"min\",\n      \"properties\": {\n        \"dtype\": \"number\",\n        \"std\": 621458.4723153269,\n        \"min\": 520675.0,\n        \"max\": 1399550.0,\n        \"num_unique_values\": 2,\n        \"samples\": [\n          1399550.0,\n          520675.0\n        ],\n        \"semantic_type\": \"\",\n        \"description\": \"\"\n      }\n    },\n    {\n      \"column\": \"25%\",\n      \"properties\": {\n        \"dtype\": \"number\",\n        \"std\": 622996.4295644077,\n        \"min\": 521775.0,\n        \"max\": 1402825.0,\n        \"num_unique_values\": 2,\n        \"samples\": [\n          1402825.0,\n          521775.0\n        ],\n        \"semantic_type\": \"\",\n        \"description\": \"\"\n      }\n    },\n    {\n      \"column\": \"50%\",\n      \"properties\": {\n        \"dtype\": \"number\",\n        \"std\": 623473.7266417086,\n        \"min\": 522150.0,\n        \"max\": 1403875.0,\n        \"num_unique_values\": 2,\n        \"samples\": [\n          1403875.0,\n          522150.0\n        ],\n        \"semantic_type\": \"\",\n        \"description\": \"\"\n      }\n    },\n    {\n      \"column\": \"75%\",\n      \"properties\": {\n        \"dtype\": \"number\",\n        \"std\": 624004.0567275985,\n        \"min\": 522600.0,\n        \"max\": 1405075.0,\n        \"num_unique_values\": 2,\n        \"samples\": [\n          1405075.0,\n          522600.0\n        ],\n        \"semantic_type\": \"\",\n        \"description\": \"\"\n      }\n    },\n    {\n      \"column\": \"max\",\n      \"properties\": {\n        \"dtype\": \"number\",\n        \"std\": 626372.8644445734,\n        \"min\": 523350.0,\n        \"max\": 1409175.0,\n        \"num_unique_values\": 2,\n        \"samples\": [\n          1409175.0,\n          523350.0\n        ],\n        \"semantic_type\": \"\",\n        \"description\": \"\"\n      }\n    }\n  ]\n}"
            }
          },
          "metadata": {},
          "execution_count": 14
        }
      ]
    },
    {
      "cell_type": "markdown",
      "source": [
        "1.   We see that 'RAINBOWZ0' has a higher average price than 'UNICORNZ0'.\n",
        "2.   But the latter demonstrates greater price volatility with a standard deviation of 1772.839 as compared to 564.321 for 'RAINBOWZ0'.\n",
        "3. Lastly, as expected, 'UNICORNZ0' has a wider price range than 'RAINBOWZ0'."
      ],
      "metadata": {
        "id": "x-5I3061N-8o"
      }
    },
    {
      "cell_type": "code",
      "source": [
        "# Quantity by symbol\n",
        "df.groupby('Symbol')['Quantity'].describe()"
      ],
      "metadata": {
        "colab": {
          "base_uri": "https://localhost:8080/",
          "height": 143
        },
        "id": "0PIJQI3EQTSl",
        "outputId": "e94ed294-ada1-4394-dbfa-9d4230c6da8f"
      },
      "execution_count": null,
      "outputs": [
        {
          "output_type": "execute_result",
          "data": {
            "text/plain": [
              "              count      mean       std  min  25%  50%  75%    max\n",
              "Symbol                                                            \n",
              "RAINBOWZ0  848043.0  2.500027  5.588240  1.0  1.0  1.0  2.0  588.0\n",
              "UNICORNZ0  581329.0  1.276551  1.099884  1.0  1.0  1.0  1.0   67.0"
            ],
            "text/html": [
              "\n",
              "  <div id=\"df-8efb4a89-af82-4189-b792-347c50fc04a2\" class=\"colab-df-container\">\n",
              "    <div>\n",
              "<style scoped>\n",
              "    .dataframe tbody tr th:only-of-type {\n",
              "        vertical-align: middle;\n",
              "    }\n",
              "\n",
              "    .dataframe tbody tr th {\n",
              "        vertical-align: top;\n",
              "    }\n",
              "\n",
              "    .dataframe thead th {\n",
              "        text-align: right;\n",
              "    }\n",
              "</style>\n",
              "<table border=\"1\" class=\"dataframe\">\n",
              "  <thead>\n",
              "    <tr style=\"text-align: right;\">\n",
              "      <th></th>\n",
              "      <th>count</th>\n",
              "      <th>mean</th>\n",
              "      <th>std</th>\n",
              "      <th>min</th>\n",
              "      <th>25%</th>\n",
              "      <th>50%</th>\n",
              "      <th>75%</th>\n",
              "      <th>max</th>\n",
              "    </tr>\n",
              "    <tr>\n",
              "      <th>Symbol</th>\n",
              "      <th></th>\n",
              "      <th></th>\n",
              "      <th></th>\n",
              "      <th></th>\n",
              "      <th></th>\n",
              "      <th></th>\n",
              "      <th></th>\n",
              "      <th></th>\n",
              "    </tr>\n",
              "  </thead>\n",
              "  <tbody>\n",
              "    <tr>\n",
              "      <th>RAINBOWZ0</th>\n",
              "      <td>848043.0</td>\n",
              "      <td>2.500027</td>\n",
              "      <td>5.588240</td>\n",
              "      <td>1.0</td>\n",
              "      <td>1.0</td>\n",
              "      <td>1.0</td>\n",
              "      <td>2.0</td>\n",
              "      <td>588.0</td>\n",
              "    </tr>\n",
              "    <tr>\n",
              "      <th>UNICORNZ0</th>\n",
              "      <td>581329.0</td>\n",
              "      <td>1.276551</td>\n",
              "      <td>1.099884</td>\n",
              "      <td>1.0</td>\n",
              "      <td>1.0</td>\n",
              "      <td>1.0</td>\n",
              "      <td>1.0</td>\n",
              "      <td>67.0</td>\n",
              "    </tr>\n",
              "  </tbody>\n",
              "</table>\n",
              "</div>\n",
              "    <div class=\"colab-df-buttons\">\n",
              "\n",
              "  <div class=\"colab-df-container\">\n",
              "    <button class=\"colab-df-convert\" onclick=\"convertToInteractive('df-8efb4a89-af82-4189-b792-347c50fc04a2')\"\n",
              "            title=\"Convert this dataframe to an interactive table.\"\n",
              "            style=\"display:none;\">\n",
              "\n",
              "  <svg xmlns=\"http://www.w3.org/2000/svg\" height=\"24px\" viewBox=\"0 -960 960 960\">\n",
              "    <path d=\"M120-120v-720h720v720H120Zm60-500h600v-160H180v160Zm220 220h160v-160H400v160Zm0 220h160v-160H400v160ZM180-400h160v-160H180v160Zm440 0h160v-160H620v160ZM180-180h160v-160H180v160Zm440 0h160v-160H620v160Z\"/>\n",
              "  </svg>\n",
              "    </button>\n",
              "\n",
              "  <style>\n",
              "    .colab-df-container {\n",
              "      display:flex;\n",
              "      gap: 12px;\n",
              "    }\n",
              "\n",
              "    .colab-df-convert {\n",
              "      background-color: #E8F0FE;\n",
              "      border: none;\n",
              "      border-radius: 50%;\n",
              "      cursor: pointer;\n",
              "      display: none;\n",
              "      fill: #1967D2;\n",
              "      height: 32px;\n",
              "      padding: 0 0 0 0;\n",
              "      width: 32px;\n",
              "    }\n",
              "\n",
              "    .colab-df-convert:hover {\n",
              "      background-color: #E2EBFA;\n",
              "      box-shadow: 0px 1px 2px rgba(60, 64, 67, 0.3), 0px 1px 3px 1px rgba(60, 64, 67, 0.15);\n",
              "      fill: #174EA6;\n",
              "    }\n",
              "\n",
              "    .colab-df-buttons div {\n",
              "      margin-bottom: 4px;\n",
              "    }\n",
              "\n",
              "    [theme=dark] .colab-df-convert {\n",
              "      background-color: #3B4455;\n",
              "      fill: #D2E3FC;\n",
              "    }\n",
              "\n",
              "    [theme=dark] .colab-df-convert:hover {\n",
              "      background-color: #434B5C;\n",
              "      box-shadow: 0px 1px 3px 1px rgba(0, 0, 0, 0.15);\n",
              "      filter: drop-shadow(0px 1px 2px rgba(0, 0, 0, 0.3));\n",
              "      fill: #FFFFFF;\n",
              "    }\n",
              "  </style>\n",
              "\n",
              "    <script>\n",
              "      const buttonEl =\n",
              "        document.querySelector('#df-8efb4a89-af82-4189-b792-347c50fc04a2 button.colab-df-convert');\n",
              "      buttonEl.style.display =\n",
              "        google.colab.kernel.accessAllowed ? 'block' : 'none';\n",
              "\n",
              "      async function convertToInteractive(key) {\n",
              "        const element = document.querySelector('#df-8efb4a89-af82-4189-b792-347c50fc04a2');\n",
              "        const dataTable =\n",
              "          await google.colab.kernel.invokeFunction('convertToInteractive',\n",
              "                                                    [key], {});\n",
              "        if (!dataTable) return;\n",
              "\n",
              "        const docLinkHtml = 'Like what you see? Visit the ' +\n",
              "          '<a target=\"_blank\" href=https://colab.research.google.com/notebooks/data_table.ipynb>data table notebook</a>'\n",
              "          + ' to learn more about interactive tables.';\n",
              "        element.innerHTML = '';\n",
              "        dataTable['output_type'] = 'display_data';\n",
              "        await google.colab.output.renderOutput(dataTable, element);\n",
              "        const docLink = document.createElement('div');\n",
              "        docLink.innerHTML = docLinkHtml;\n",
              "        element.appendChild(docLink);\n",
              "      }\n",
              "    </script>\n",
              "  </div>\n",
              "\n",
              "\n",
              "<div id=\"df-dca0035c-6f45-4d23-bb6a-c1c769de7cf7\">\n",
              "  <button class=\"colab-df-quickchart\" onclick=\"quickchart('df-dca0035c-6f45-4d23-bb6a-c1c769de7cf7')\"\n",
              "            title=\"Suggest charts\"\n",
              "            style=\"display:none;\">\n",
              "\n",
              "<svg xmlns=\"http://www.w3.org/2000/svg\" height=\"24px\"viewBox=\"0 0 24 24\"\n",
              "     width=\"24px\">\n",
              "    <g>\n",
              "        <path d=\"M19 3H5c-1.1 0-2 .9-2 2v14c0 1.1.9 2 2 2h14c1.1 0 2-.9 2-2V5c0-1.1-.9-2-2-2zM9 17H7v-7h2v7zm4 0h-2V7h2v10zm4 0h-2v-4h2v4z\"/>\n",
              "    </g>\n",
              "</svg>\n",
              "  </button>\n",
              "\n",
              "<style>\n",
              "  .colab-df-quickchart {\n",
              "      --bg-color: #E8F0FE;\n",
              "      --fill-color: #1967D2;\n",
              "      --hover-bg-color: #E2EBFA;\n",
              "      --hover-fill-color: #174EA6;\n",
              "      --disabled-fill-color: #AAA;\n",
              "      --disabled-bg-color: #DDD;\n",
              "  }\n",
              "\n",
              "  [theme=dark] .colab-df-quickchart {\n",
              "      --bg-color: #3B4455;\n",
              "      --fill-color: #D2E3FC;\n",
              "      --hover-bg-color: #434B5C;\n",
              "      --hover-fill-color: #FFFFFF;\n",
              "      --disabled-bg-color: #3B4455;\n",
              "      --disabled-fill-color: #666;\n",
              "  }\n",
              "\n",
              "  .colab-df-quickchart {\n",
              "    background-color: var(--bg-color);\n",
              "    border: none;\n",
              "    border-radius: 50%;\n",
              "    cursor: pointer;\n",
              "    display: none;\n",
              "    fill: var(--fill-color);\n",
              "    height: 32px;\n",
              "    padding: 0;\n",
              "    width: 32px;\n",
              "  }\n",
              "\n",
              "  .colab-df-quickchart:hover {\n",
              "    background-color: var(--hover-bg-color);\n",
              "    box-shadow: 0 1px 2px rgba(60, 64, 67, 0.3), 0 1px 3px 1px rgba(60, 64, 67, 0.15);\n",
              "    fill: var(--button-hover-fill-color);\n",
              "  }\n",
              "\n",
              "  .colab-df-quickchart-complete:disabled,\n",
              "  .colab-df-quickchart-complete:disabled:hover {\n",
              "    background-color: var(--disabled-bg-color);\n",
              "    fill: var(--disabled-fill-color);\n",
              "    box-shadow: none;\n",
              "  }\n",
              "\n",
              "  .colab-df-spinner {\n",
              "    border: 2px solid var(--fill-color);\n",
              "    border-color: transparent;\n",
              "    border-bottom-color: var(--fill-color);\n",
              "    animation:\n",
              "      spin 1s steps(1) infinite;\n",
              "  }\n",
              "\n",
              "  @keyframes spin {\n",
              "    0% {\n",
              "      border-color: transparent;\n",
              "      border-bottom-color: var(--fill-color);\n",
              "      border-left-color: var(--fill-color);\n",
              "    }\n",
              "    20% {\n",
              "      border-color: transparent;\n",
              "      border-left-color: var(--fill-color);\n",
              "      border-top-color: var(--fill-color);\n",
              "    }\n",
              "    30% {\n",
              "      border-color: transparent;\n",
              "      border-left-color: var(--fill-color);\n",
              "      border-top-color: var(--fill-color);\n",
              "      border-right-color: var(--fill-color);\n",
              "    }\n",
              "    40% {\n",
              "      border-color: transparent;\n",
              "      border-right-color: var(--fill-color);\n",
              "      border-top-color: var(--fill-color);\n",
              "    }\n",
              "    60% {\n",
              "      border-color: transparent;\n",
              "      border-right-color: var(--fill-color);\n",
              "    }\n",
              "    80% {\n",
              "      border-color: transparent;\n",
              "      border-right-color: var(--fill-color);\n",
              "      border-bottom-color: var(--fill-color);\n",
              "    }\n",
              "    90% {\n",
              "      border-color: transparent;\n",
              "      border-bottom-color: var(--fill-color);\n",
              "    }\n",
              "  }\n",
              "</style>\n",
              "\n",
              "  <script>\n",
              "    async function quickchart(key) {\n",
              "      const quickchartButtonEl =\n",
              "        document.querySelector('#' + key + ' button');\n",
              "      quickchartButtonEl.disabled = true;  // To prevent multiple clicks.\n",
              "      quickchartButtonEl.classList.add('colab-df-spinner');\n",
              "      try {\n",
              "        const charts = await google.colab.kernel.invokeFunction(\n",
              "            'suggestCharts', [key], {});\n",
              "      } catch (error) {\n",
              "        console.error('Error during call to suggestCharts:', error);\n",
              "      }\n",
              "      quickchartButtonEl.classList.remove('colab-df-spinner');\n",
              "      quickchartButtonEl.classList.add('colab-df-quickchart-complete');\n",
              "    }\n",
              "    (() => {\n",
              "      let quickchartButtonEl =\n",
              "        document.querySelector('#df-dca0035c-6f45-4d23-bb6a-c1c769de7cf7 button');\n",
              "      quickchartButtonEl.style.display =\n",
              "        google.colab.kernel.accessAllowed ? 'block' : 'none';\n",
              "    })();\n",
              "  </script>\n",
              "</div>\n",
              "\n",
              "    </div>\n",
              "  </div>\n"
            ],
            "application/vnd.google.colaboratory.intrinsic+json": {
              "type": "dataframe",
              "summary": "{\n  \"name\": \"df\",\n  \"rows\": 2,\n  \"fields\": [\n    {\n      \"column\": \"Symbol\",\n      \"properties\": {\n        \"dtype\": \"string\",\n        \"num_unique_values\": 2,\n        \"samples\": [\n          \"UNICORNZ0\",\n          \"RAINBOWZ0\"\n        ],\n        \"semantic_type\": \"\",\n        \"description\": \"\"\n      }\n    },\n    {\n      \"column\": \"count\",\n      \"properties\": {\n        \"dtype\": \"number\",\n        \"std\": 188595.27803738884,\n        \"min\": 581329.0,\n        \"max\": 848043.0,\n        \"num_unique_values\": 2,\n        \"samples\": [\n          581329.0,\n          848043.0\n        ],\n        \"semantic_type\": \"\",\n        \"description\": \"\"\n      }\n    },\n    {\n      \"column\": \"mean\",\n      \"properties\": {\n        \"dtype\": \"number\",\n        \"std\": 0.8651279864995691,\n        \"min\": 1.2765507999772934,\n        \"max\": 2.500026531673512,\n        \"num_unique_values\": 2,\n        \"samples\": [\n          1.2765507999772934,\n          2.500026531673512\n        ],\n        \"semantic_type\": \"\",\n        \"description\": \"\"\n      }\n    },\n    {\n      \"column\": \"std\",\n      \"properties\": {\n        \"dtype\": \"number\",\n        \"std\": 3.173746515618702,\n        \"min\": 1.0998841756569617,\n        \"max\": 5.588239541579284,\n        \"num_unique_values\": 2,\n        \"samples\": [\n          1.0998841756569617,\n          5.588239541579284\n        ],\n        \"semantic_type\": \"\",\n        \"description\": \"\"\n      }\n    },\n    {\n      \"column\": \"min\",\n      \"properties\": {\n        \"dtype\": \"number\",\n        \"std\": 0.0,\n        \"min\": 1.0,\n        \"max\": 1.0,\n        \"num_unique_values\": 1,\n        \"samples\": [\n          1.0\n        ],\n        \"semantic_type\": \"\",\n        \"description\": \"\"\n      }\n    },\n    {\n      \"column\": \"25%\",\n      \"properties\": {\n        \"dtype\": \"number\",\n        \"std\": 0.0,\n        \"min\": 1.0,\n        \"max\": 1.0,\n        \"num_unique_values\": 1,\n        \"samples\": [\n          1.0\n        ],\n        \"semantic_type\": \"\",\n        \"description\": \"\"\n      }\n    },\n    {\n      \"column\": \"50%\",\n      \"properties\": {\n        \"dtype\": \"number\",\n        \"std\": 0.0,\n        \"min\": 1.0,\n        \"max\": 1.0,\n        \"num_unique_values\": 1,\n        \"samples\": [\n          1.0\n        ],\n        \"semantic_type\": \"\",\n        \"description\": \"\"\n      }\n    },\n    {\n      \"column\": \"75%\",\n      \"properties\": {\n        \"dtype\": \"number\",\n        \"std\": 0.7071067811865476,\n        \"min\": 1.0,\n        \"max\": 2.0,\n        \"num_unique_values\": 2,\n        \"samples\": [\n          1.0\n        ],\n        \"semantic_type\": \"\",\n        \"description\": \"\"\n      }\n    },\n    {\n      \"column\": \"max\",\n      \"properties\": {\n        \"dtype\": \"number\",\n        \"std\": 368.4026329981913,\n        \"min\": 67.0,\n        \"max\": 588.0,\n        \"num_unique_values\": 2,\n        \"samples\": [\n          67.0\n        ],\n        \"semantic_type\": \"\",\n        \"description\": \"\"\n      }\n    }\n  ]\n}"
            }
          },
          "metadata": {},
          "execution_count": 15
        }
      ]
    },
    {
      "cell_type": "markdown",
      "source": [
        "1.   Large orders are more common for 'RAINBOWZ0', which was expected as it is traded more.\n",
        "2.   The max quantity ever traded was 588 for 'RAINBOWZ0'. This is huge compared to 'UNICORNZ0' which has a max quantity of 67. One reason looks to be because 'UNICORNZ0' has a higher price volatility.\n",
        "\n"
      ],
      "metadata": {
        "id": "ebsdmVaOQs29"
      }
    },
    {
      "cell_type": "markdown",
      "source": [
        "# Price Analysis"
      ],
      "metadata": {
        "id": "0FzdAcRbM3GB"
      }
    },
    {
      "cell_type": "code",
      "source": [
        "# Price Analysis Over Time\n",
        "df=df.sort_values(by='ExchangePublishTimestamp')\n",
        "\n",
        "# Different colours for each symbol\n",
        "colours = {'RAINBOWZ0': 'blue', 'UNICORNZ0': 'red'}\n",
        "\n",
        "# Plot the data with custom colours\n",
        "for symbol, group in df.groupby('Symbol'):\n",
        "    group.plot(x='ExchangePublishTimestamp', y='Price', figsize=(15,6), label=symbol, color=colours[symbol])\n",
        "\n",
        "plt.title('Price Analysis Over Time')\n",
        "plt.xlabel('Exchange Publish Timestamp')\n",
        "plt.ylabel('Price')\n",
        "plt.legend()\n",
        "plt.show()"
      ],
      "metadata": {
        "colab": {
          "base_uri": "https://localhost:8080/",
          "height": 720
        },
        "id": "OnwQJcA1NNce",
        "outputId": "21770e82-4519-46d5-beac-f169c22a23ab"
      },
      "execution_count": null,
      "outputs": [
        {
          "output_type": "display_data",
          "data": {
            "text/plain": [
              "<Figure size 1500x600 with 1 Axes>"
            ],
            "image/png": "[encoded data removed]"
          },
          "metadata": {}
        },
        {
          "output_type": "display_data",
          "data": {
            "text/plain": [
              "<Figure size 1500x600 with 1 Axes>"
            ],
            "image/png": "[encoded data removed]"
          },
          "metadata": {}
        }
      ]
    },
    {
      "cell_type": "markdown",
      "source": [
        "We see that both symbols show a fairly similar trend. The ups and downs are quite similar till '01-01-15'. After that differences become more prominent. For example, the highest spike in price for 'UNICORNZ0' occurs between '01-01-15' and '01-01'18 while the highest spike for 'RAINBOZ0' occurs after '01-01-21'. Interesting thing is that the biggest drop for both happened around the same time. Seems the market dynamics effected both simultaneously. Factors could be news events, regulatory changes etc."
      ],
      "metadata": {
        "id": "H2A1DIcEW0MT"
      }
    },
    {
      "cell_type": "code",
      "source": [
        "# Price Differences by Order Type\n",
        "price_by_order_type = df.groupby(['IsBuy','IsAggressor'])['Price'].mean().unstack()\n",
        "print(\"Average Price By Order Type:\")\n",
        "print(price_by_order_type)\n",
        "\n",
        "# Caclculating the count of trades for context\n",
        "count_by_order_type = df.groupby(['IsBuy','IsAggressor'])['OrderId'].count().unstack()\n",
        "print(\"Count By Order Type:\")\n",
        "print(count_by_order_type)"
      ],
      "metadata": {
        "colab": {
          "base_uri": "https://localhost:8080/"
        },
        "id": "-bmLInD_Y2np",
        "outputId": "e0f92f96-6d4a-43ef-9e7b-bf8ddc505fe1"
      },
      "execution_count": null,
      "outputs": [
        {
          "output_type": "stream",
          "name": "stdout",
          "text": [
            "Average Price By Order Type:\n",
            "IsAggressor          False         True \n",
            "IsBuy                                   \n",
            "False        836477.143207  967191.90735\n",
            "True         839025.917766  959206.97218\n",
            "Count By Order Type:\n",
            "IsAggressor   False   True \n",
            "IsBuy                      \n",
            "False        467512  245031\n",
            "True         471253  245576\n"
          ]
        }
      ]
    },
    {
      "cell_type": "markdown",
      "source": [
        "We see that the average price for aggressive buy orders is significantly higher than passive buy orders. This probably suggests that aggressive buyers are willing to pay premium to acquire the order immediately. Similarly, the average price for a sell order is also higher than passive ones indicating the sellers are willing to lower price to dispose of an asset quickly.\n",
        "We also infer that the average buy prices are way higher than sell prices indicating a buying pressure in the market. One reason could be simply because of mismatch of supply and demand which is driving the prices up.\n",
        "Analysing the count by order type report, we see that there's an overall higher count of passive buys/sells than aggressive ones indicating the buyers are approaching by caution. This lines correctly with the above observation where we inferred that there's a market instability. In a nutshell, it's neither bearish nor bullish."
      ],
      "metadata": {
        "id": "TEyLzijybYH-"
      }
    },
    {
      "cell_type": "markdown",
      "source": [
        "# Order type Analysis"
      ],
      "metadata": {
        "id": "MQTlSKCVgWuE"
      }
    },
    {
      "cell_type": "code",
      "source": [
        "# Buy vs Sell behaviour by symbol\n",
        "buy_vs_sell_by_symbol = df.groupby(['IsBuy','Symbol'])['OrderId'].count().unstack()\n",
        "\n",
        "# Adding a total field\n",
        "buy_vs_sell_by_symbol['Total'] = buy_vs_sell_by_symbol.sum(axis=1)\n",
        "print(\"Buy vs Sell behaviour by symbol:\")\n",
        "print(buy_vs_sell_by_symbol)\n",
        "\n",
        "# Representing in a graph\n",
        "import seaborn as sns\n",
        "import numpy as np\n",
        "\n",
        "# Removing the total field as it's not needed for the visualisation\n",
        "buy_vs_sell_melted = buy_vs_sell_by_symbol.drop(columns=['Total']).melt(\n",
        "    ignore_index=False, var_name='Symbol', value_name='Count').reset_index()\n",
        "\n",
        "plt.figure(figsize=(10, 6))\n",
        "sns.barplot(x='Symbol', y='Count', hue='IsBuy', data=buy_vs_sell_melted,\n",
        "            palette={np.True_: 'darkblue', np.False_: 'gold'})\n",
        "\n",
        "# Create custom legend handles\n",
        "handles = [plt.Rectangle((0,0),1,1, color=c) for c in ['darkblue', 'gold']]\n",
        "labels= [\"Buy\", \"Sell\"]\n",
        "\n",
        "# Add legend using custom handles and labels\n",
        "plt.legend(handles, labels, title=\"Order Type\")\n",
        "plt.title('Buy vs Sell behaviour by symbol')\n",
        "plt.ylabel('Number of Trades')\n",
        "plt.xlabel('Symbol')\n",
        "plt.tight_layout()\n",
        "plt.show()"
      ],
      "metadata": {
        "colab": {
          "base_uri": "https://localhost:8080/",
          "height": 613
        },
        "id": "WZ5DsNAAgfhl",
        "outputId": "6c6bb5a4-9986-40d3-d161-805c497d90ca"
      },
      "execution_count": null,
      "outputs": [
        {
          "output_type": "stream",
          "name": "stdout",
          "text": [
            "Buy vs Sell behaviour by symbol:\n",
            "Symbol  RAINBOWZ0  UNICORNZ0   Total\n",
            "IsBuy                               \n",
            "False      422257     290286  712543\n",
            "True       425786     291043  716829\n"
          ]
        },
        {
          "output_type": "display_data",
          "data": {
            "text/plain": [
              "<Figure size 1000x600 with 1 Axes>"
            ],
            "image/png": "[encoded data removed]"
          },
          "metadata": {}
        }
      ]
    },
    {
      "cell_type": "markdown",
      "source": [
        "So, from the above result we see that buy orders are slightly higher than sell orders. Same goes when we differentiate it by symbol. We cannot clearly say that the market is showing a bullish sentiment as the slight difference can be statistically insignificant. Going by the previous analysis and the fact that total buy orders are slightly higher than sell orders, it represents a more neutral sentiment with both buying and selling is approached with caution."
      ],
      "metadata": {
        "id": "d7Rn33_M75Zg"
      }
    },
    {
      "cell_type": "code",
      "source": [
        "# Aggressive vs Passive behaviour by symbol\n",
        "aggr_vs_pass_by_symbol = df.groupby(['IsAggressor','Symbol'])['OrderId'].count().unstack()\n",
        "\n",
        "# Adding a total field\n",
        "aggr_vs_pass_by_symbol['Total'] = aggr_vs_pass_by_symbol.sum(axis=1)\n",
        "print(\"Aggressive vs Passive behaviour by symbol:\")\n",
        "print(aggr_vs_pass_by_symbol)"
      ],
      "metadata": {
        "colab": {
          "base_uri": "https://localhost:8080/"
        },
        "id": "XoRkPAZ-9Rwr",
        "outputId": "6b7400dc-ec8b-473c-eaca-fcbb7219b0d4"
      },
      "execution_count": null,
      "outputs": [
        {
          "output_type": "stream",
          "name": "stdout",
          "text": [
            "Aggressive vs Passive behaviour by symbol:\n",
            "Symbol       RAINBOWZ0  UNICORNZ0   Total\n",
            "IsAggressor                              \n",
            "False           602809     335956  938765\n",
            "True            245234     245373  490607\n"
          ]
        }
      ]
    },
    {
      "cell_type": "markdown",
      "source": [
        "From above results, 'Passive' approach outweighs 'Aggressive' approach quite significantly. This falls in line with all the inferences we have done so far. The market has a neutral sentiment, and people are willing to wait for their instrument to reach a specific price."
      ],
      "metadata": {
        "id": "Y-MmS4F5-Ag3"
      }
    },
    {
      "cell_type": "code",
      "source": [
        "# Impact on price and quantity\n",
        "price_and_quantity = df.groupby(['Symbol','IsBuy','IsAggressor'])[['Price', 'Quantity']].mean()\n",
        "print(\"Impact on Price and Quanity:\")\n",
        "print(price_and_quantity)"
      ],
      "metadata": {
        "colab": {
          "base_uri": "https://localhost:8080/"
        },
        "id": "yiUa9x8h_YOj",
        "outputId": "8ddf6ea9-95a2-42e5-eae7-0aa113ad04b6"
      },
      "execution_count": null,
      "outputs": [
        {
          "output_type": "stream",
          "name": "stdout",
          "text": [
            "Impact on Price and Quanity:\n",
            "                                    Price  Quantity\n",
            "Symbol    IsBuy IsAggressor                        \n",
            "RAINBOWZ0 False False        5.221704e+05  1.768085\n",
            "                True         5.221342e+05  4.351738\n",
            "          True  False        5.221547e+05  1.749326\n",
            "                True         5.221488e+05  4.293466\n",
            "UNICORNZ0 False False        1.404065e+06  1.105263\n",
            "                True         1.403976e+06  1.511778\n",
            "          True  False        1.403995e+06  1.104048\n",
            "                True         1.404022e+06  1.512045\n"
          ]
        }
      ]
    },
    {
      "cell_type": "markdown",
      "source": [
        "*   Aggressive orders have a larger quantity than passive orders even though the price is almost similar. This is same for 'Sell' orders. This is possibly because the traders believe the market could go up soon. Aggressive selling means there could be market makers involved in thess transactions.\n",
        "*   The above observation is exactly true for both symbols highlighting an uniformity in the market when it comes to this. Although the difference in the total quantity for aggressive and passive orders is minute for 'UNICORNZ0' as compared to 'RAINBOWZ0'.\n",
        "*   Traders are willing to buy at a higher price and incur a loss when selling. Since there is an instability between demand and supply, it seems more reasonable for traders to work that way.\n",
        "*   The reason to sell aggressive in a high demand market could be many reasons such as Liquidity Provision, Hedging or in the case of Algorithmic Trading, these algorithms can react very quickly to small changes in market conditions."
      ],
      "metadata": {
        "id": "OTpHjOnDAzIQ"
      }
    },
    {
      "cell_type": "markdown",
      "source": [
        "# Latency Analysis"
      ],
      "metadata": {
        "id": "f6o3fMSiEtpu"
      }
    },
    {
      "cell_type": "code",
      "source": [
        "# Latency by Order Type\n",
        "df['Latency']=df['ExchangeReceiptTimestamp']-df['ExchangePublishTimestamp']\n",
        "latency_by_order_type = df.groupby(['IsBuy','IsAggressor'])['Latency'].mean()\n",
        "print(\"Average Latency By Order Type:\")\n",
        "print(latency_by_order_type)"
      ],
      "metadata": {
        "colab": {
          "base_uri": "https://localhost:8080/"
        },
        "id": "IztTiFGwErSc",
        "outputId": "1b9f99f1-e2a2-4680-8eb7-e6eea33af6c9"
      },
      "execution_count": null,
      "outputs": [
        {
          "output_type": "stream",
          "name": "stdout",
          "text": [
            "Average Latency By Order Type:\n",
            "IsBuy  IsAggressor\n",
            "False  False         -1 days +23:59:59.999490671\n",
            "       True          -1 days +23:59:59.999529877\n",
            "True   False         -1 days +23:59:59.999497229\n",
            "       True          -1 days +23:59:59.999539100\n",
            "Name: Latency, dtype: timedelta64[ns]\n"
          ]
        }
      ]
    },
    {
      "cell_type": "markdown",
      "source": [
        "Latency looks fairly same across buy or sell orders regardless of whether they’re aggressive or passive. Very minute difference between them and they're all executed one day after."
      ],
      "metadata": {
        "id": "Pdnm-iymGkbb"
      }
    },
    {
      "cell_type": "code",
      "source": [
        "# Latency by Symbol\n",
        "latency_by_symbol = df.groupby(['Symbol'])['Latency'].mean()\n",
        "print(\"Average Latency By Symbol:\")\n",
        "print(latency_by_symbol)"
      ],
      "metadata": {
        "colab": {
          "base_uri": "https://localhost:8080/"
        },
        "id": "wVm2qmD_G7I_",
        "outputId": "578a387f-cbf8-4295-c841-9ae368f7079e"
      },
      "execution_count": null,
      "outputs": [
        {
          "output_type": "stream",
          "name": "stdout",
          "text": [
            "Average Latency By Symbol:\n",
            "Symbol\n",
            "RAINBOWZ0   -1 days +23:59:59.999543664\n",
            "UNICORNZ0   -1 days +23:59:59.999455664\n",
            "Name: Latency, dtype: timedelta64[ns]\n"
          ]
        }
      ]
    },
    {
      "cell_type": "markdown",
      "source": [
        "Again, not much variance to distinguish between the 2 symbols."
      ],
      "metadata": {
        "id": "5ngIptNlHVW5"
      }
    },
    {
      "cell_type": "markdown",
      "source": [
        "# Firm Performance Analysis"
      ],
      "metadata": {
        "id": "y9B2Da2ZHp7w"
      }
    },
    {
      "cell_type": "code",
      "source": [
        "# Activity by Firm (Number of Trades and Total Quantity)\n",
        "activity_by_firm = df.groupby(['Firm']).agg({'OrderId': 'count', 'Quantity': 'sum'}).rename(columns={'OrderId': 'Trade Count', 'Quantity': 'Total Quantity'})\n",
        "activity_by_firm.sort_values(by='Trade Count', ascending=False, inplace=True)\n",
        "print(\"Activity by Firm:\")\n",
        "print(activity_by_firm)\n",
        "\n",
        "# Average Price by Firm, split by IsBuy and Symbol\n",
        "avg_firm_price = df.groupby(['Firm','IsBuy','Symbol'])['Price'].mean().unstack(level=[1,2])\n",
        "print(\"\\nAverage Price By Firm (Split By IsBuy and Symbol):\")\n",
        "print(avg_firm_price)\n",
        "\n",
        "# Aggressiveness by Firm and Symbol\n",
        "agg_by_firm = df.groupby(['Firm','Symbol'])['IsAggressor'].mean().unstack()*100\n",
        "agg_by_firm.sort_values(by='RAINBOWZ0', ascending=False, inplace=True)\n",
        "print(\"\\nAggressiveness By Firm and Symbol:\")\n",
        "print(agg_by_firm)"
      ],
      "metadata": {
        "colab": {
          "base_uri": "https://localhost:8080/"
        },
        "id": "GLqyF5OeHmL6",
        "outputId": "83186100-1a4f-4857-d3d4-9fc6d1d9721c"
      },
      "execution_count": null,
      "outputs": [
        {
          "output_type": "stream",
          "name": "stdout",
          "text": [
            "Activity by Firm:\n",
            "      Trade Count  Total Quantity\n",
            "Firm                             \n",
            "ABW        294361          529213\n",
            "UJV        212131          426803\n",
            "KNR        202068          439861\n",
            "IOU        188211          395884\n",
            "YDG        160747          322449\n",
            "NJG        147494          283137\n",
            "EIN        116588          195368\n",
            "SAU        107772          269511\n",
            "\n",
            "Average Price By Firm (Split By IsBuy and Symbol):\n",
            "IsBuy           False                        True               \n",
            "Symbol      RAINBOWZ0     UNICORNZ0      RAINBOWZ0     UNICORNZ0\n",
            "Firm                                                            \n",
            "ABW     522162.351448  1.404043e+06  522154.214028  1.404011e+06\n",
            "EIN     522157.889375  1.404040e+06  522161.673176  1.403999e+06\n",
            "IOU     522160.871987  1.404021e+06  522159.608202  1.403998e+06\n",
            "KNR     522160.992339  1.404010e+06  522150.018227  1.404021e+06\n",
            "NJG     522154.900486  1.404018e+06  522155.283190  1.403992e+06\n",
            "SAU     522158.322999  1.404055e+06  522149.293009  1.403995e+06\n",
            "UJV     522160.404670  1.404020e+06  522150.866142  1.404000e+06\n",
            "YDG     522158.539209  1.404021e+06  522146.631755  1.404029e+06\n",
            "\n",
            "Aggressiveness By Firm and Symbol:\n",
            "Symbol  RAINBOWZ0  UNICORNZ0\n",
            "Firm                        \n",
            "SAU     42.018624  21.197076\n",
            "KNR     34.644103  45.052974\n",
            "NJG     34.056819  45.745181\n",
            "IOU     29.230411  50.833792\n",
            "UJV     28.705786  48.922590\n",
            "YDG     28.473818  49.854685\n",
            "EIN     19.065617  40.504328\n",
            "ABW     18.807361  29.881417\n"
          ]
        }
      ]
    },
    {
      "cell_type": "markdown",
      "source": [
        "1.   Activity By Firm\n",
        "'ABW' is the most active Firm in both Trade Count and Quantity while 'SAU' is least active by Trade Count but 'EIN' by Quantity. 'ABW' handles the bulk of the Trading volume across both Symbols. We can also say that most firms are utilising a block trading strategy. 'NJG' highlights this observation the most where it does fewer trades but higher quantity.\n",
        "\n",
        "2.   Average Price By Firm\n",
        "For 'RAINBOWZ0' sells, 'NJG' gets the lowest and 'ABW' the highest average price while for 'UNICORNZ0', it is 'KNR' and 'SAU' get the lowest and highest average respectively.\n",
        "'EIN' and 'YDG get the highest average buy price and lowest average buy price respectively for 'RAINBOWZ0' while it is 'YDG' and 'NJG with the same for 'UNICORNZ0' symbol.\n",
        "One interesting observation is 'YDG' is more aggressive or trading at less favourable times with 'UNICORNZ0' symbol than 'RAINBOWZ0'. Another interesting observation is 'NJG' consistently gets lowest sell price for 'RAINBOWZ0' and lowest buy price for 'UNICORNZ0'.\n",
        "As 'UNICORNZ0' is more expensive, 'NJG' is doing pretty well with their strategy but need to improve the selling strategy for 'RAINBOWZ0'.\n",
        "\n",
        "3.   Aggressiveness By Firm\n",
        "'SAU' is most aggressive with 'RAINBOWZ0' and least with 'UNICORNZ0'. This could be because 'RAINBOWZ0' has more trading activity and volume.\n",
        "'IOU' is most aggressive when it comes to symbol='UNICORNZ0' and 'SAU' is the least. Clearly, 'SAU' prefers trading in 'RAINBOWZ0' than 'UNICORNZ0'.\n",
        "A quite interesting observation is even though 'ABW' is the most active firm by trade count and quantity as established above, it is very passive with both symbols.\n",
        "Less aggressive ones like 'ABW' and 'SAU' for 'UNICORNZ0' get better sell price than others suggesting that providing liquidity pays off in this dataset.  \n",
        "\n",
        "\n"
      ],
      "metadata": {
        "id": "8YPQKepfmxOO"
      }
    },
    {
      "cell_type": "markdown",
      "source": [
        "# Predictive Analytics"
      ],
      "metadata": {
        "id": "ghEqWQHpJP4K"
      }
    },
    {
      "cell_type": "code",
      "source": [
        "# Predict Price\n",
        "\"\"\" Using features like Symbol, IsBuy, IsAggressor, Quantity, Firm, Trader and Hour to predict Price.\n",
        "\"\"\"\n",
        "from sklearn.model_selection import train_test_split\n",
        "from sklearn.ensemble import RandomForestRegressor\n",
        "\n",
        "# Features and target\n",
        "df['Hour']=df['ExchangePublishTimestamp'].dt.hour\n",
        "X=pd.get_dummies(df[['Symbol', 'IsBuy', 'IsAggressor', 'Firm', 'Trader', 'Hour']], drop_first=True)\n",
        "X['Quantity']=df['Quantity']\n",
        "y=df['Price']\n",
        "\n",
        "# Split and train\n",
        "X_train, X_test, y_train, y_test = train_test_split(X, y, test_size=0.2, random_state=42)\n",
        "model = RandomForestRegressor(random_state=42)\n",
        "model.fit(X_train, y_train)\n",
        "\n",
        "# Predict\n",
        "y_pred = model.predict(X_test)\n",
        "\n",
        "# Evaluate\n",
        "from sklearn.metrics import mean_squared_error, r2_score\n",
        "mse = mean_squared_error(y_test, y_pred)\n",
        "r2 = r2_score(y_test, y_pred)\n",
        "print(f\"Mean Squared Error: {mse}\")\n",
        "print(f\"R-squared: {r2}\")"
      ],
      "metadata": {
        "id": "Rsue2GrnJTuB",
        "colab": {
          "base_uri": "https://localhost:8080/"
        },
        "outputId": "7b929bb3-ede9-4205-a3e4-85ab75f97dba"
      },
      "execution_count": null,
      "outputs": [
        {
          "output_type": "stream",
          "name": "stdout",
          "text": [
            "Mean Squared Error: 640036.0399673018\n",
            "R-squared: 0.9999965908869232\n"
          ]
        }
      ]
    },
    {
      "cell_type": "markdown",
      "source": [
        "The R-squared is very close to 1 indicating the model is a very strong fit. Unfortunately, this could be a sign of overfitting. Optimum solution would be to perform Regularization and Cross-Validation.\n",
        "Our Mean Squared Error (MSE) is less than the average price. This although suggests the model is performing reasonably well, context is everything. In this dataset, there's a low variance in the target variable which is 'Price'. For such a dataset, a lower MSE than the average price is pretty common."
      ],
      "metadata": {
        "id": "FhcB1DWQj45L"
      }
    },
    {
      "cell_type": "code",
      "source": [
        "# Adding the y_pred column to a dataframe\n",
        "# Get the indices of the test set from the train_test split\n",
        "test_indices=X_test.index\n",
        "\n",
        "# Create a new column and initialise with Nan\n",
        "df_predict=df\n",
        "import numpy as np\n",
        "df_predict['Predicted Price']=np.nan\n",
        "\n",
        "# Adding the predicted values to the corresponding rows in the DF\n",
        "df_predict.loc[test_indices, 'Predicted Price']=y_pred\n",
        "\n",
        "# Save the output into a new CSV\n",
        "df_predict.to_csv(\"Fills-Predicted.csv\", index=False)"
      ],
      "metadata": {
        "id": "OsG8_5fQ74io"
      },
      "execution_count": null,
      "outputs": []
    }
  ]
}