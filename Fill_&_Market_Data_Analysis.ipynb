{
  "nbformat": 4,
  "nbformat_minor": 0,
  "metadata": {
    "colab": {
      "provenance": []
    },
    "kernelspec": {
      "name": "python3",
      "display_name": "Python 3"
    },
    "language_info": {
      "name": "python"
    }
  },
  "cells": [
    {
      "cell_type": "markdown",
      "source": [
        "# Data Load"
      ],
      "metadata": {
        "id": "fdaUS1cFnLK6"
      }
    },
    {
      "cell_type": "code",
      "execution_count": null,
      "metadata": {
        "id": "SS8X16TPmwRS"
      },
      "outputs": [],
      "source": [
        "# Importing Libraries\n",
        "import pandas as pd"
      ]
    },
    {
      "cell_type": "code",
      "source": [
        "# Mounting Google Drive\n",
        "from google.colab import drive\n",
        "drive.mount('/content/drive')"
      ],
      "metadata": {
        "colab": {
          "base_uri": "https://localhost:8080/"
        },
        "id": "f2pfFqR4nDuQ",
        "outputId": "b5eea4ba-cf92-41b0-b79b-c4e0bdad9ad4"
      },
      "execution_count": null,
      "outputs": [
        {
          "output_type": "stream",
          "name": "stdout",
          "text": [
            "Mounted at /content/drive\n"
          ]
        }
      ]
    },
    {
      "cell_type": "code",
      "source": [
        "# Changing the work directory\n",
        "import os\n",
        "os.chdir(\"/content/drive/MyDrive/Colab Notebooks\")"
      ],
      "metadata": {
        "id": "iDTLThxAnJ57"
      },
      "execution_count": null,
      "outputs": []
    },
    {
      "cell_type": "code",
      "source": [
        "# Load the Market Data and Fill CSVs\n",
        "md_df = pd.read_csv('MD-Combined.csv')\n",
        "\n",
        "fill_df = pd.read_csv('Fills-Combined.csv')"
      ],
      "metadata": {
        "id": "hSy2QbGWnSZW"
      },
      "execution_count": null,
      "outputs": []
    },
    {
      "cell_type": "markdown",
      "source": [
        "# Combining the two DataFrames"
      ],
      "metadata": {
        "id": "JpbbnLpjsqpK"
      }
    },
    {
      "cell_type": "code",
      "source": [
        "# Convert 'ExchangePublishTimestamp' and 'ts' columns to datetime objects\n",
        "fill_df['ExchangePublishTimestamp']=pd.to_datetime(fill_df['ExchangePublishTimestamp'])\n",
        "md_df['ts']=pd.to_datetime(md_df['ts'])\n",
        "\n",
        "# Ensure 'Symbol' column is of the same type in both dataframes\n",
        "fill_df['Symbol'] = fill_df['Symbol'].astype(str) #Changing them both to strings\n",
        "md_df['Symbol'] = md_df['Symbol'].astype(str)\n",
        "\n",
        "# Merging\n",
        "md_fill_df = pd.merge_asof(fill_df.sort_values('ExchangePublishTimestamp'),\n",
        "                           md_df.sort_values('ts'), left_on='ExchangePublishTimestamp', right_on='ts',\n",
        "                           by='Symbol', direction='nearest')"
      ],
      "metadata": {
        "id": "KqOfX1cjogcO"
      },
      "execution_count": null,
      "outputs": []
    },
    {
      "cell_type": "markdown",
      "source": [
        "# Slippage Analysis"
      ],
      "metadata": {
        "id": "epTYU6nOuaDy"
      }
    },
    {
      "cell_type": "code",
      "source": [
        "# Calculate mid-price\n",
        "md_fill_df['Mid_Price'] = (md_fill_df['bid_price'] + md_fill_df['ask_price']) / 2\n",
        "\n",
        "# Calculate Slippage\n",
        "md_fill_df['Slippage'] = abs(md_fill_df['Mid_Price'] - md_fill_df['Price_x'])/md_fill_df['Mid_Price'] * 100 #In %\n",
        "\n",
        "# Slippage by Firm and Trader\n",
        "slippage_by_firm = md_fill_df.groupby('Firm')['Slippage'].mean()\n",
        "slippage_by_firm=slippage_by_firm.sort_values(ascending=True)\n",
        "slippage_by_trader = md_fill_df.groupby('Trader_x')['Slippage'].mean()\n",
        "slippage_by_trader=slippage_by_trader.sort_values(ascending=True)\n",
        "\n",
        "print(\"Average Slippage By Firm (%): \")\n",
        "print(slippage_by_firm)\n",
        "print(\"\\nAverage Slippage By Trader (%): \")\n",
        "print(slippage_by_trader)"
      ],
      "metadata": {
        "colab": {
          "base_uri": "https://localhost:8080/"
        },
        "id": "3VVy6lZoo_b0",
        "outputId": "a173edcb-f01a-4117-a603-cc6dc4ccd398"
      },
      "execution_count": null,
      "outputs": [
        {
          "output_type": "stream",
          "name": "stdout",
          "text": [
            "Average Slippage By Firm (%): \n",
            "Firm\n",
            "EIN    0.001538\n",
            "NJG    0.001596\n",
            "ABW    0.001735\n",
            "YDG    0.001748\n",
            "UJV    0.001752\n",
            "KNR    0.001811\n",
            "IOU    0.001822\n",
            "SAU    0.001995\n",
            "Name: Slippage, dtype: float64\n",
            "\n",
            "Average Slippage By Trader (%): \n",
            "Trader_x\n",
            "TIE    0.001038\n",
            "PUL    0.001044\n",
            "NBM    0.001052\n",
            "MHP    0.001055\n",
            "UFQ    0.001060\n",
            "YHL    0.001063\n",
            "KQD    0.001064\n",
            "TCF    0.001077\n",
            "GXU    0.001078\n",
            "OTY    0.001081\n",
            "YWX    0.001081\n",
            "JZF    0.001086\n",
            "RVN    0.001089\n",
            "MVL    0.001091\n",
            "NVF    0.001096\n",
            "PAM    0.001109\n",
            "JGS    0.001112\n",
            "ZGS    0.002203\n",
            "EBJ    0.002210\n",
            "VHA    0.002213\n",
            "JFX    0.002213\n",
            "GWS    0.002213\n",
            "LYW    0.002214\n",
            "BJA    0.002214\n",
            "ASY    0.002216\n",
            "YLO    0.002219\n",
            "WNT    0.002220\n",
            "SCK    0.002221\n",
            "VRP    0.002222\n",
            "HFW    0.002222\n",
            "LFH    0.002224\n",
            "KOX    0.002225\n",
            "Name: Slippage, dtype: float64\n"
          ]
        }
      ]
    },
    {
      "cell_type": "markdown",
      "source": [
        "We see from the above calculations that they all have very low slippage which indicates better execution relative to the market. 'EIN' has the best numbers among the firms while 'TIE' is the best among the traders."
      ],
      "metadata": {
        "id": "dhbCIOkjw3UJ"
      }
    },
    {
      "cell_type": "markdown",
      "source": [
        "# Bid-Ask Spread Impact"
      ],
      "metadata": {
        "id": "Xg0idKHyxfjj"
      }
    },
    {
      "cell_type": "code",
      "source": [
        "# Calculate Spread\n",
        "md_fill_df['Spread'] = md_fill_df['ask_price'] - md_fill_df['bid_price']\n",
        "\n",
        "# Spread by symbol\n",
        "spread_by_symbol = md_fill_df.groupby('Symbol')['Spread'].mean()\n",
        "\n",
        "# Slippage vs Spread by Order Type\n",
        "slippage_vs_spread = md_fill_df.groupby(['IsBuy_x','IsAggressor'])[['Slippage','Spread']].mean()\n",
        "\n",
        "print(\"Average Spread By Symbol: \")\n",
        "print(spread_by_symbol)\n",
        "print(\"\\nSlippage vs Spread By Order Type: \")\n",
        "print(slippage_vs_spread)"
      ],
      "metadata": {
        "colab": {
          "base_uri": "https://localhost:8080/"
        },
        "id": "lE1iLtz3xkdM",
        "outputId": "f8749d95-b4c1-4412-c030-9718c9c35162"
      },
      "execution_count": null,
      "outputs": [
        {
          "output_type": "stream",
          "name": "stdout",
          "text": [
            "Average Spread By Symbol: \n",
            "Symbol\n",
            "RAINBOWZ0    26.689566\n",
            "UNICORNZ0    52.103327\n",
            "Name: Spread, dtype: float64\n",
            "\n",
            "Slippage vs Spread By Order Type: \n",
            "                     Slippage     Spread\n",
            "IsBuy_x IsAggressor                     \n",
            "False   False        0.001773  33.997416\n",
            "        True         0.001635  39.788027\n",
            "True    False        0.001864  38.536678\n",
            "        True         0.001603  37.133311\n"
          ]
        }
      ]
    },
    {
      "cell_type": "markdown",
      "source": [
        "We see that 'UNICORNZ0' has the wider spread. Almost double of 'RAINBOWZ0'. This could explain why more trades happen for the latter symbol than the former. As there are more participants for 'RAINBOWZ0', the gap between the bid and ask is tighter.\n",
        "We see that aggressive orders have a wider spread for sell orders while it's the opposite for buy orders even though the difference in the aggressive and passive approach is not much. Interesting thing is Spread and Slippage have an inversely proportional relationship except in the case of buy-passive orders. We have already deduced previously that the market has more neutral sentiment and there's a demand and supply mismatch. Traders are approaching with caution and while overall uncertainty might be higher, the market is relatively stable during the brief window of order execution."
      ],
      "metadata": {
        "id": "AIgOzrBl1dLW"
      }
    },
    {
      "cell_type": "markdown",
      "source": [
        "# Liquidity Analysis"
      ],
      "metadata": {
        "id": "5u2c6sH98NEA"
      }
    },
    {
      "cell_type": "code",
      "source": [
        "# Liquity by symbol\n",
        "liquidity_by_symbol = md_fill_df.groupby('Symbol')[['bid_qty','ask_qty']].mean()\n",
        "\n",
        "print(\"Average Liquidity By Symbol: \")\n",
        "print(liquidity_by_symbol)"
      ],
      "metadata": {
        "colab": {
          "base_uri": "https://localhost:8080/"
        },
        "id": "wVm6nS6V8Q6t",
        "outputId": "7acd5ae2-f19f-4120-a48f-a0a365362901"
      },
      "execution_count": null,
      "outputs": [
        {
          "output_type": "stream",
          "name": "stdout",
          "text": [
            "Average Liquidity By Symbol: \n",
            "           bid_qty    ask_qty\n",
            "Symbol                       \n",
            "RAINBOWZ0      NaN  59.554982\n",
            "UNICORNZ0      NaN   3.297197\n"
          ]
        }
      ]
    },
    {
      "cell_type": "markdown",
      "source": [
        "Unfortunately, we couldn't get any value for bid_qty but 'UNICORNZ0' has way lower ask_qty mean, which might explain higher slippage and spread for that symbol. Less liquidity can lead to higher spread due to fewer participants and increased risk for market makers. The lack of participation leads to less competition among market makers, allowing them to offer wider bid-ask spreads to increase their profitability and compensate for higher risk."
      ],
      "metadata": {
        "id": "Ym0ovHBt8qfW"
      }
    }
  ]
}